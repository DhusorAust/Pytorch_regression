{
 "cells": [
  {
   "cell_type": "code",
   "execution_count": 1,
   "metadata": {},
   "outputs": [],
   "source": [
    "import pandas as pd\n",
    "import numpy as np\n",
    "from torch import nn,optim\n",
    "import torch.nn.functional as F\n",
    "import torch\n",
    "from torch.autograd import Variable"
   ]
  },
  {
   "cell_type": "code",
   "execution_count": 2,
   "metadata": {},
   "outputs": [
    {
     "data": {
      "text/html": [
       "<div>\n",
       "<style scoped>\n",
       "    .dataframe tbody tr th:only-of-type {\n",
       "        vertical-align: middle;\n",
       "    }\n",
       "\n",
       "    .dataframe tbody tr th {\n",
       "        vertical-align: top;\n",
       "    }\n",
       "\n",
       "    .dataframe thead th {\n",
       "        text-align: right;\n",
       "    }\n",
       "</style>\n",
       "<table border=\"1\" class=\"dataframe\">\n",
       "  <thead>\n",
       "    <tr style=\"text-align: right;\">\n",
       "      <th></th>\n",
       "      <th>User ID</th>\n",
       "      <th>Age</th>\n",
       "      <th>EstimatedSalary</th>\n",
       "    </tr>\n",
       "  </thead>\n",
       "  <tbody>\n",
       "    <tr>\n",
       "      <th>0</th>\n",
       "      <td>15624510</td>\n",
       "      <td>19</td>\n",
       "      <td>19000</td>\n",
       "    </tr>\n",
       "    <tr>\n",
       "      <th>1</th>\n",
       "      <td>15810944</td>\n",
       "      <td>35</td>\n",
       "      <td>20000</td>\n",
       "    </tr>\n",
       "    <tr>\n",
       "      <th>2</th>\n",
       "      <td>15668575</td>\n",
       "      <td>26</td>\n",
       "      <td>43000</td>\n",
       "    </tr>\n",
       "    <tr>\n",
       "      <th>3</th>\n",
       "      <td>15603246</td>\n",
       "      <td>27</td>\n",
       "      <td>57000</td>\n",
       "    </tr>\n",
       "    <tr>\n",
       "      <th>4</th>\n",
       "      <td>15804002</td>\n",
       "      <td>19</td>\n",
       "      <td>76000</td>\n",
       "    </tr>\n",
       "  </tbody>\n",
       "</table>\n",
       "</div>"
      ],
      "text/plain": [
       "    User ID  Age  EstimatedSalary\n",
       "0  15624510   19            19000\n",
       "1  15810944   35            20000\n",
       "2  15668575   26            43000\n",
       "3  15603246   27            57000\n",
       "4  15804002   19            76000"
      ]
     },
     "execution_count": 2,
     "metadata": {},
     "output_type": "execute_result"
    }
   ],
   "source": [
    "data=pd.read_csv(r'D:\\personal\\family\\Machine Learning Projects Final\\Datasets\\Social_Network_Ads.csv')\n",
    "data.head()"
   ]
  },
  {
   "cell_type": "code",
   "execution_count": 3,
   "metadata": {},
   "outputs": [
    {
     "data": {
      "text/plain": [
       "Index(['User ID', 'Age', 'EstimatedSalary'], dtype='object')"
      ]
     },
     "execution_count": 3,
     "metadata": {},
     "output_type": "execute_result"
    }
   ],
   "source": [
    "data.columns"
   ]
  },
  {
   "cell_type": "code",
   "execution_count": 4,
   "metadata": {},
   "outputs": [
    {
     "data": {
      "text/plain": [
       "(400, 3)"
      ]
     },
     "execution_count": 4,
     "metadata": {},
     "output_type": "execute_result"
    }
   ],
   "source": [
    "data.shape"
   ]
  },
  {
   "cell_type": "code",
   "execution_count": 5,
   "metadata": {},
   "outputs": [
    {
     "data": {
      "text/plain": [
       "User ID            0\n",
       "Age                0\n",
       "EstimatedSalary    0\n",
       "dtype: int64"
      ]
     },
     "execution_count": 5,
     "metadata": {},
     "output_type": "execute_result"
    }
   ],
   "source": [
    "data.isnull().sum()"
   ]
  },
  {
   "cell_type": "code",
   "execution_count": 6,
   "metadata": {},
   "outputs": [],
   "source": [
    "X_temp=data.iloc[ : , 1:2 ].values\n",
    "y_temp=data.iloc[ : , 2 : ].values"
   ]
  },
  {
   "cell_type": "code",
   "execution_count": 7,
   "metadata": {},
   "outputs": [],
   "source": [
    "from sklearn.preprocessing import StandardScaler\n",
    "scaler = StandardScaler()\n",
    "X_temp=scaler.fit_transform(X_temp)\n",
    "y_temp=scaler.fit_transform(y_temp)"
   ]
  },
  {
   "cell_type": "code",
   "execution_count": 8,
   "metadata": {},
   "outputs": [],
   "source": [
    "from sklearn.model_selection import train_test_split\n",
    "\n",
    "x_train,x_test,y_train,y_test=train_test_split(X_temp,y_temp,test_size=0.1)"
   ]
  },
  {
   "cell_type": "code",
   "execution_count": null,
   "metadata": {},
   "outputs": [],
   "source": []
  },
  {
   "cell_type": "code",
   "execution_count": 9,
   "metadata": {},
   "outputs": [],
   "source": [
    "x_train1=Variable(torch.FloatTensor(x_train))\n",
    "y_train1=Variable(torch.FloatTensor(y_train))\n",
    "\n",
    "x_test1=Variable(torch.FloatTensor(x_test))\n",
    "y_test1=Variable(torch.FloatTensor(y_test))"
   ]
  },
  {
   "cell_type": "code",
   "execution_count": 11,
   "metadata": {
    "collapsed": true
   },
   "outputs": [
    {
     "data": {
      "text/plain": [
       "tensor([[-1.8773],\n",
       "        [ 0.2240],\n",
       "        [ 0.7971],\n",
       "        [ 0.4150],\n",
       "        [ 1.8477],\n",
       "        [ 0.9881],\n",
       "        [ 0.3195],\n",
       "        [-1.0177],\n",
       "        [-1.2087],\n",
       "        [ 1.4656],\n",
       "        [ 1.5612],\n",
       "        [ 0.7971],\n",
       "        [-1.4953],\n",
       "        [ 0.3195],\n",
       "        [ 1.3701],\n",
       "        [-0.6356],\n",
       "        [-1.6863],\n",
       "        [-0.0626],\n",
       "        [ 0.7015],\n",
       "        [ 0.7015],\n",
       "        [ 0.8926],\n",
       "        [-1.8773],\n",
       "        [-1.6863],\n",
       "        [ 2.0387],\n",
       "        [-1.0177],\n",
       "        [ 1.0836],\n",
       "        [ 1.3701],\n",
       "        [-0.7312],\n",
       "        [ 0.1285],\n",
       "        [-1.1132],\n",
       "        [-1.1132],\n",
       "        [-0.2536],\n",
       "        [-0.1581],\n",
       "        [ 0.8926],\n",
       "        [ 0.7015],\n",
       "        [ 0.9881],\n",
       "        [ 0.8926],\n",
       "        [ 0.8926],\n",
       "        [-0.8267],\n",
       "        [-0.1581],\n",
       "        [-0.0626],\n",
       "        [ 0.3195],\n",
       "        [ 0.7015],\n",
       "        [ 0.9881],\n",
       "        [-0.2536],\n",
       "        [ 0.4150],\n",
       "        [ 0.7971],\n",
       "        [ 2.0387],\n",
       "        [-0.5401],\n",
       "        [-0.5401],\n",
       "        [ 0.9881],\n",
       "        [ 1.0836],\n",
       "        [-0.7312],\n",
       "        [ 2.1342],\n",
       "        [-0.7312],\n",
       "        [ 0.7971],\n",
       "        [ 0.7971],\n",
       "        [ 2.0387],\n",
       "        [ 0.3195],\n",
       "        [ 0.9881],\n",
       "        [ 0.8926],\n",
       "        [-0.1581],\n",
       "        [ 0.1285],\n",
       "        [ 1.1791],\n",
       "        [-1.3042],\n",
       "        [-0.2536],\n",
       "        [-0.2536],\n",
       "        [-1.1132],\n",
       "        [-0.4446],\n",
       "        [-0.2536],\n",
       "        [-0.0626],\n",
       "        [ 0.8926],\n",
       "        [ 0.1285],\n",
       "        [ 1.2746],\n",
       "        [ 0.7971],\n",
       "        [-0.2536],\n",
       "        [ 0.3195],\n",
       "        [-1.0177],\n",
       "        [ 0.3195],\n",
       "        [ 1.1791],\n",
       "        [-0.4446],\n",
       "        [-0.1581],\n",
       "        [ 0.1285],\n",
       "        [-1.7818],\n",
       "        [ 0.0330],\n",
       "        [-0.2536],\n",
       "        [-0.4446],\n",
       "        [ 0.2240],\n",
       "        [ 1.9432],\n",
       "        [-0.9222],\n",
       "        [-1.0177],\n",
       "        [-0.6356],\n",
       "        [ 0.8926],\n",
       "        [-1.3042],\n",
       "        [ 0.7015],\n",
       "        [ 0.9881],\n",
       "        [ 0.3195],\n",
       "        [ 0.2240],\n",
       "        [ 0.8926],\n",
       "        [-1.3997],\n",
       "        [ 0.0330],\n",
       "        [-0.2536],\n",
       "        [-1.7818],\n",
       "        [-1.5908],\n",
       "        [ 0.8926],\n",
       "        [ 1.9432],\n",
       "        [ 1.0836],\n",
       "        [-1.6863],\n",
       "        [-1.3997],\n",
       "        [-1.7818],\n",
       "        [ 0.3195],\n",
       "        [ 0.7971],\n",
       "        [-0.6356],\n",
       "        [-0.9222],\n",
       "        [-0.7312],\n",
       "        [-0.0626],\n",
       "        [ 0.8926],\n",
       "        [ 1.7522],\n",
       "        [-0.8267],\n",
       "        [ 0.3195],\n",
       "        [-0.9222],\n",
       "        [ 0.2240],\n",
       "        [-1.3997],\n",
       "        [-1.6863],\n",
       "        [ 0.6060],\n",
       "        [-1.1132],\n",
       "        [-0.1581],\n",
       "        [-0.5401],\n",
       "        [-1.3042],\n",
       "        [-1.6863],\n",
       "        [-0.2536],\n",
       "        [-0.5401],\n",
       "        [ 0.0330],\n",
       "        [-1.5908],\n",
       "        [-1.2087],\n",
       "        [ 0.0330],\n",
       "        [ 0.3195],\n",
       "        [-0.2536],\n",
       "        [-0.2536],\n",
       "        [-1.3042],\n",
       "        [ 0.7971],\n",
       "        [-0.2536],\n",
       "        [-0.1581],\n",
       "        [-0.4446],\n",
       "        [-0.4446],\n",
       "        [-1.6863],\n",
       "        [-1.4953],\n",
       "        [ 0.3195],\n",
       "        [ 0.2240],\n",
       "        [ 0.4150],\n",
       "        [-1.3997],\n",
       "        [-0.9222],\n",
       "        [-1.8773],\n",
       "        [ 0.4150],\n",
       "        [ 0.1285],\n",
       "        [ 0.0330],\n",
       "        [ 0.1285],\n",
       "        [ 1.6567],\n",
       "        [ 0.2240],\n",
       "        [ 0.8926],\n",
       "        [-0.0626],\n",
       "        [-0.8267],\n",
       "        [-1.3997],\n",
       "        [ 1.5612],\n",
       "        [-0.3491],\n",
       "        [-1.2087],\n",
       "        [ 1.8477],\n",
       "        [ 1.4656],\n",
       "        [-0.4446],\n",
       "        [-0.6356],\n",
       "        [ 0.4150],\n",
       "        [ 0.7971],\n",
       "        [ 1.7522],\n",
       "        [-0.0626],\n",
       "        [ 0.2240],\n",
       "        [-1.3042],\n",
       "        [-0.7312],\n",
       "        [-0.5401],\n",
       "        [ 0.0330],\n",
       "        [ 0.1285],\n",
       "        [-0.2536],\n",
       "        [-0.6356],\n",
       "        [-0.2536],\n",
       "        [ 0.6060],\n",
       "        [-0.9222],\n",
       "        [ 0.4150],\n",
       "        [-0.3491],\n",
       "        [-0.0626],\n",
       "        [-0.7312],\n",
       "        [-0.2536],\n",
       "        [ 1.9432],\n",
       "        [ 1.3701],\n",
       "        [-1.6863],\n",
       "        [-0.1581],\n",
       "        [ 0.1285],\n",
       "        [-1.1132],\n",
       "        [ 0.7971],\n",
       "        [-0.2536],\n",
       "        [-0.8267],\n",
       "        [-1.7818],\n",
       "        [-1.8773],\n",
       "        [-1.0177],\n",
       "        [-0.2536],\n",
       "        [ 0.9881],\n",
       "        [ 0.2240],\n",
       "        [-0.9222],\n",
       "        [-1.1132],\n",
       "        [-1.2087],\n",
       "        [ 0.2240],\n",
       "        [ 1.5612],\n",
       "        [-1.5908],\n",
       "        [ 0.1285],\n",
       "        [ 2.0387],\n",
       "        [ 0.5105],\n",
       "        [ 0.5105],\n",
       "        [ 0.4150],\n",
       "        [-1.8773],\n",
       "        [-0.0626],\n",
       "        [ 0.4150],\n",
       "        [-0.0626],\n",
       "        [-0.8267],\n",
       "        [-1.0177],\n",
       "        [-1.3042],\n",
       "        [ 0.4150],\n",
       "        [-0.4446],\n",
       "        [ 1.8477],\n",
       "        [ 0.2240],\n",
       "        [ 1.9432],\n",
       "        [-0.1581],\n",
       "        [ 0.1285],\n",
       "        [ 0.9881],\n",
       "        [-1.0177],\n",
       "        [-1.4953],\n",
       "        [-1.0177],\n",
       "        [-0.7312],\n",
       "        [-0.2536],\n",
       "        [-0.0626],\n",
       "        [-0.2536],\n",
       "        [ 0.2240],\n",
       "        [-0.0626],\n",
       "        [ 0.4150],\n",
       "        [ 0.4150],\n",
       "        [ 0.2240],\n",
       "        [ 1.6567],\n",
       "        [-1.1132],\n",
       "        [ 1.0836],\n",
       "        [ 1.2746],\n",
       "        [ 0.1285],\n",
       "        [-1.2087],\n",
       "        [ 0.4150],\n",
       "        [-0.0626],\n",
       "        [-0.3491],\n",
       "        [-0.9222],\n",
       "        [-0.0626],\n",
       "        [-0.2536],\n",
       "        [ 0.9881],\n",
       "        [-1.7818],\n",
       "        [-0.2536],\n",
       "        [ 2.1342],\n",
       "        [ 1.6567],\n",
       "        [-1.1132],\n",
       "        [ 0.0330],\n",
       "        [ 0.2240],\n",
       "        [ 1.3701],\n",
       "        [ 1.3701],\n",
       "        [ 1.2746],\n",
       "        [-0.0626],\n",
       "        [ 0.0330],\n",
       "        [ 0.2240],\n",
       "        [ 0.9881],\n",
       "        [-0.5401],\n",
       "        [ 0.4150],\n",
       "        [-0.2536],\n",
       "        [-1.0177],\n",
       "        [-0.0626],\n",
       "        [-0.2536],\n",
       "        [-1.7818],\n",
       "        [ 1.5612],\n",
       "        [ 1.8477],\n",
       "        [ 0.9881],\n",
       "        [ 2.1342],\n",
       "        [-0.4446],\n",
       "        [ 1.0836],\n",
       "        [ 0.9881],\n",
       "        [-1.3997],\n",
       "        [-1.3042],\n",
       "        [ 2.0387],\n",
       "        [ 2.0387],\n",
       "        [ 0.3195],\n",
       "        [ 1.3701],\n",
       "        [ 0.7015],\n",
       "        [ 1.7522],\n",
       "        [ 0.1285],\n",
       "        [ 0.4150],\n",
       "        [-0.7312],\n",
       "        [ 0.0330],\n",
       "        [ 0.7015],\n",
       "        [-0.9222],\n",
       "        [-0.0626],\n",
       "        [ 0.1285],\n",
       "        [-0.9222],\n",
       "        [ 0.1285],\n",
       "        [ 2.1342],\n",
       "        [ 1.9432],\n",
       "        [-1.1132],\n",
       "        [-0.8267],\n",
       "        [ 2.0387],\n",
       "        [-1.0177],\n",
       "        [-1.4953],\n",
       "        [-0.1581],\n",
       "        [-0.3491],\n",
       "        [-0.0626],\n",
       "        [-0.1581],\n",
       "        [ 2.1342],\n",
       "        [-0.2536],\n",
       "        [ 0.9881],\n",
       "        [ 0.7971],\n",
       "        [-1.3042],\n",
       "        [-0.2536],\n",
       "        [-0.2536],\n",
       "        [-0.6356],\n",
       "        [-1.1132],\n",
       "        [-1.7818],\n",
       "        [ 1.4656],\n",
       "        [ 1.9432],\n",
       "        [ 1.1791],\n",
       "        [-0.8267],\n",
       "        [-0.4446],\n",
       "        [-0.6356],\n",
       "        [ 0.4150],\n",
       "        [-1.1132],\n",
       "        [ 0.7971],\n",
       "        [-0.6356],\n",
       "        [-0.9222],\n",
       "        [-0.0626],\n",
       "        [ 0.3195],\n",
       "        [-0.0626],\n",
       "        [ 0.4150],\n",
       "        [-0.2536],\n",
       "        [-1.0177],\n",
       "        [-1.0177],\n",
       "        [ 2.1342],\n",
       "        [-0.8267],\n",
       "        [-0.7312],\n",
       "        [-0.6356],\n",
       "        [-0.9222],\n",
       "        [-1.2087],\n",
       "        [ 1.8477],\n",
       "        [-0.6356],\n",
       "        [-0.0626],\n",
       "        [-0.7312],\n",
       "        [ 2.1342],\n",
       "        [ 1.1791],\n",
       "        [-1.5908],\n",
       "        [ 0.0330],\n",
       "        [-1.1132],\n",
       "        [-0.5401],\n",
       "        [-1.1132],\n",
       "        [-0.1581],\n",
       "        [-1.4953]])"
      ]
     },
     "execution_count": 11,
     "metadata": {},
     "output_type": "execute_result"
    }
   ],
   "source": [
    "x_train1"
   ]
  },
  {
   "cell_type": "code",
   "execution_count": 10,
   "metadata": {},
   "outputs": [],
   "source": [
    "class Net(nn.Module):\n",
    "    def __init__(self):\n",
    "        super(Net,self).__init__()\n",
    "        \n",
    "        \n",
    "        self.f1=torch.nn.Linear(1,1)\n",
    "        \n",
    "    def forward(self,x):\n",
    "        x=self.f1(x)        \n",
    "        return x"
   ]
  },
  {
   "cell_type": "code",
   "execution_count": 11,
   "metadata": {},
   "outputs": [],
   "source": [
    "m1=Net()\n",
    "loss_func=nn.MSELoss()\n",
    "optm=optim.SGD(m1.parameters(),lr=0.0001)"
   ]
  },
  {
   "cell_type": "code",
   "execution_count": 12,
   "metadata": {},
   "outputs": [],
   "source": [
    "for epoch in range(500):\n",
    "    y_pred=m1(x_train1)\n",
    "    loss=loss_func(y_pred,y_train1)\n",
    "    loss.backward()\n",
    "    optm.step()"
   ]
  },
  {
   "cell_type": "code",
   "execution_count": 13,
   "metadata": {},
   "outputs": [],
   "source": [
    "result=m1(x_test1)"
   ]
  },
  {
   "cell_type": "code",
   "execution_count": 14,
   "metadata": {},
   "outputs": [],
   "source": [
    "result=result.detach().numpy()"
   ]
  },
  {
   "cell_type": "code",
   "execution_count": 15,
   "metadata": {},
   "outputs": [],
   "source": [
    "result=np.expm1(result)"
   ]
  },
  {
   "cell_type": "code",
   "execution_count": 16,
   "metadata": {},
   "outputs": [],
   "source": [
    "result=scaler.inverse_transform(result)"
   ]
  },
  {
   "cell_type": "code",
   "execution_count": 17,
   "metadata": {
    "scrolled": true
   },
   "outputs": [
    {
     "data": {
      "text/plain": [
       "array([[153669.03 ],\n",
       "       [ 81527.   ],\n",
       "       [141904.62 ],\n",
       "       [ 65801.195],\n",
       "       [ 76956.195],\n",
       "       [ 95293.2  ],\n",
       "       [ 89349.72 ],\n",
       "       [ 89349.72 ],\n",
       "       [ 65801.195],\n",
       "       [ 83998.875],\n",
       "       [ 86604.055],\n",
       "       [121778.08 ],\n",
       "       [ 60095.195],\n",
       "       [ 95293.2  ],\n",
       "       [ 98507.44 ],\n",
       "       [ 86604.055],\n",
       "       [ 67425.055],\n",
       "       [ 65801.195],\n",
       "       [ 83998.875],\n",
       "       [ 61411.355],\n",
       "       [ 56537.17 ],\n",
       "       [105465.234],\n",
       "       [131313.3  ],\n",
       "       [ 74844.664],\n",
       "       [105465.234],\n",
       "       [131313.3  ],\n",
       "       [ 83998.875],\n",
       "       [ 83998.875],\n",
       "       [ 56537.17 ],\n",
       "       [105465.234],\n",
       "       [105465.234],\n",
       "       [136469.94 ],\n",
       "       [ 86604.055],\n",
       "       [ 92243.44 ],\n",
       "       [ 76956.195],\n",
       "       [ 60095.195],\n",
       "       [ 98507.44 ],\n",
       "       [ 64260.426],\n",
       "       [197373.62 ],\n",
       "       [ 83998.875]], dtype=float32)"
      ]
     },
     "execution_count": 17,
     "metadata": {},
     "output_type": "execute_result"
    }
   ],
   "source": [
    "result"
   ]
  },
  {
   "cell_type": "code",
   "execution_count": null,
   "metadata": {},
   "outputs": [],
   "source": []
  },
  {
   "cell_type": "code",
   "execution_count": null,
   "metadata": {},
   "outputs": [],
   "source": []
  },
  {
   "cell_type": "code",
   "execution_count": null,
   "metadata": {},
   "outputs": [],
   "source": []
  },
  {
   "cell_type": "markdown",
   "metadata": {},
   "source": [
    "# Another Example"
   ]
  },
  {
   "cell_type": "code",
   "execution_count": 19,
   "metadata": {},
   "outputs": [],
   "source": [
    "m2=Net()\n",
    "loss_func=nn.MSELoss(size_average=False)\n",
    "optm=optim.SGD(m2.parameters(),lr=0.01)"
   ]
  },
  {
   "cell_type": "code",
   "execution_count": 20,
   "metadata": {},
   "outputs": [],
   "source": [
    "x_data=torch.Tensor([[1],[2],[3]])\n",
    "y_data=torch.Tensor([[3],[6],[9]])"
   ]
  },
  {
   "cell_type": "code",
   "execution_count": 21,
   "metadata": {},
   "outputs": [
    {
     "data": {
      "text/plain": [
       "torch.Tensor"
      ]
     },
     "execution_count": 21,
     "metadata": {},
     "output_type": "execute_result"
    }
   ],
   "source": [
    "type(x_data)"
   ]
  },
  {
   "cell_type": "code",
   "execution_count": 22,
   "metadata": {},
   "outputs": [
    {
     "data": {
      "text/plain": [
       "torch.Size([3, 1])"
      ]
     },
     "execution_count": 22,
     "metadata": {},
     "output_type": "execute_result"
    }
   ],
   "source": [
    "x_data.shape"
   ]
  },
  {
   "cell_type": "code",
   "execution_count": 23,
   "metadata": {},
   "outputs": [
    {
     "data": {
      "text/plain": [
       "tensor([[1.],\n",
       "        [2.],\n",
       "        [3.]])"
      ]
     },
     "execution_count": 23,
     "metadata": {},
     "output_type": "execute_result"
    }
   ],
   "source": [
    "x_data"
   ]
  },
  {
   "cell_type": "code",
   "execution_count": 24,
   "metadata": {},
   "outputs": [],
   "source": [
    "for epoch in range(500):\n",
    "    y_pred=m2(x_data)\n",
    "    loss=loss_func(y_pred,y_data)\n",
    "    optm.zero_grad()\n",
    "    loss.backward()\n",
    "    optm.step()\n",
    "    "
   ]
  },
  {
   "cell_type": "code",
   "execution_count": 70,
   "metadata": {},
   "outputs": [],
   "source": [
    "z=Variable(torch.Tensor([[4.0],[5.0]]))\n"
   ]
  },
  {
   "cell_type": "code",
   "execution_count": 85,
   "metadata": {},
   "outputs": [],
   "source": [
    "predict_value=m2(z)"
   ]
  },
  {
   "cell_type": "code",
   "execution_count": 86,
   "metadata": {},
   "outputs": [
    {
     "data": {
      "text/plain": [
       "tensor([[11.9607],\n",
       "        [14.9379]], grad_fn=<AddmmBackward>)"
      ]
     },
     "execution_count": 86,
     "metadata": {},
     "output_type": "execute_result"
    }
   ],
   "source": [
    "predict_value"
   ]
  },
  {
   "cell_type": "code",
   "execution_count": null,
   "metadata": {},
   "outputs": [],
   "source": []
  }
 ],
 "metadata": {
  "kernelspec": {
   "display_name": "Python 3",
   "language": "python",
   "name": "python3"
  },
  "language_info": {
   "codemirror_mode": {
    "name": "ipython",
    "version": 3
   },
   "file_extension": ".py",
   "mimetype": "text/x-python",
   "name": "python",
   "nbconvert_exporter": "python",
   "pygments_lexer": "ipython3",
   "version": "3.8.1"
  }
 },
 "nbformat": 4,
 "nbformat_minor": 4
}
